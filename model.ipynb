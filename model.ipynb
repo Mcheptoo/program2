{
  "nbformat": 4,
  "nbformat_minor": 0,
  "metadata": {
    "colab": {
      "provenance": [],
      "include_colab_link": true
    },
    "kernelspec": {
      "name": "python3",
      "display_name": "Python 3"
    },
    "language_info": {
      "name": "python"
    }
  },
  "cells": [
    {
      "cell_type": "markdown",
      "metadata": {
        "id": "view-in-github",
        "colab_type": "text"
      },
      "source": [
        "<a href=\"https://colab.research.google.com/github/Mcheptoo/program2/blob/main/model.ipynb\" target=\"_parent\"><img src=\"https://colab.research.google.com/assets/colab-badge.svg\" alt=\"Open In Colab\"/></a>"
      ]
    },
    {
      "cell_type": "code",
      "execution_count": null,
      "metadata": {
        "id": "yFJA4ybvzLlk"
      },
      "outputs": [],
      "source": [
        "import pandas as pd\n",
        "import numpy as np\n",
        "from sklearn.model_selection import train_test_split\n",
        "from sklearn.ensemble import RandomForestClassifier\n",
        "from sklearn.metrics import accuracy_score, classification_report\n"
      ]
    },
    {
      "cell_type": "code",
      "source": [
        "import pandas as pd\n",
        "import numpy as np\n",
        "from datetime import datetime, timedelta\n",
        "\n",
        "# Set random seed for reproducibility\n",
        "np.random.seed(42)\n",
        "\n",
        "# Number of data points\n",
        "num_data_points = 1000\n",
        "\n",
        "# Create synthetic sensor data\n",
        "sensor_data = pd.DataFrame({\n",
        "    'Timestamp': pd.date_range(start=datetime.now(), periods=num_data_points, freq='H'),\n",
        "        'Temperature': np.random.normal(loc=25, scale=5, size=num_data_points),\n",
        "            'Pressure': np.random.normal(loc=100, scale=10, size=num_data_points),\n",
        "                'Vibration': np.random.normal(loc=0, scale=1, size=num_data_points),\n",
        "                })\n",
        "\n",
        "                # Create synthetic maintenance records\n",
        "                maintenance_records = pd.DataFrame({\n",
        "                    'Timestamp': pd.date_range(start=datetime.now(), periods=num_data_points//10, freq='D'),\n",
        "                        'Maintenance_Type': np.random.choice(['Routine', 'Emergency'], size=num_data_points//10),\n",
        "                        })\n",
        "\n",
        "                        # Merge sensor data and maintenance records\n",
        "                        df = pd.merge_asof(sensor_data, maintenance_records, on='Timestamp', direction='backward')\n",
        "\n",
        "                        # Fill NaN values in 'Maintenance_Type' with 'No Maintenance'\n",
        "                        df['Maintenance_Type'].fillna('No Maintenance', inplace=True)\n",
        "\n",
        "                        # Create binary target variable indicating failure (1) or not (0)\n",
        "                        df['Failure'] = np.where(df['Maintenance_Type'] == 'Emergency', 1, 0)\n",
        "\n",
        "                        # Save the synthetic dataset to a CSV file\n",
        "                        df.to_csv('data.csv', index=False)\n"
      ],
      "metadata": {
        "id": "QfzDl_XvzzYy"
      },
      "execution_count": null,
      "outputs": []
    },
    {
      "cell_type": "code",
      "source": [
        "# Load the data into a pandas DataFrame\n",
        "df = pd.read_csv('data.csv')\n"
      ],
      "metadata": {
        "id": "zlEeG4Dx0AA4"
      },
      "execution_count": null,
      "outputs": []
    },
    {
      "cell_type": "code",
      "source": [
        "# Basic data exploration\n",
        "print(df.head())\n",
        "print(df.info())\n",
        "print(df.describe())\n"
      ],
      "metadata": {
        "id": "H1eUPgmVzZe9"
      },
      "execution_count": null,
      "outputs": []
    },
    {
      "cell_type": "code",
      "source": [
        "# Assuming 'features' is a list of selected features\n",
        "X = df[features]\n",
        "y = df['target']  # Assuming 'target' is the column indicating equipment failure\n"
      ],
      "metadata": {
        "id": "5zKAmjUNzay9"
      },
      "execution_count": null,
      "outputs": []
    },
    {
      "cell_type": "code",
      "source": [
        "# Example: Impute missing values with mean\n",
        "X.fillna(X.mean(), inplace=True)\n"
      ],
      "metadata": {
        "id": "mG4MTnTkzdrL"
      },
      "execution_count": null,
      "outputs": []
    },
    {
      "cell_type": "code",
      "source": [
        "X_train, X_test, y_train, y_test = train_test_split(X, y, test_size=0.2, random_state=42)\n"
      ],
      "metadata": {
        "id": "9pKCxJXizjhU"
      },
      "execution_count": null,
      "outputs": []
    },
    {
      "cell_type": "code",
      "source": [
        "model = RandomForestClassifier(n_estimators=100, random_state=42)\n",
        "model.fit(X_train, y_train)\n"
      ],
      "metadata": {
        "id": "vt6DN7c8zmEl"
      },
      "execution_count": null,
      "outputs": []
    },
    {
      "cell_type": "code",
      "source": [
        "y_pred = model.predict(X_test)\n",
        "print(\"Accuracy:\", accuracy_score(y_test, y_pred))\n",
        "print(\"Classification Report:\\n\", classification_report(y_test, y_pred))\n"
      ],
      "metadata": {
        "id": "yj-Y1LpJzob5"
      },
      "execution_count": null,
      "outputs": []
    }
  ]
}